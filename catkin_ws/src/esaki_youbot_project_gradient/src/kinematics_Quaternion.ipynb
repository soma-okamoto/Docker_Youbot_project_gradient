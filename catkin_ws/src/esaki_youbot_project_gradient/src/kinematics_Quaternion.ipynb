{
 "cells": [
  {
   "cell_type": "code",
   "execution_count": 30,
   "metadata": {},
   "outputs": [],
   "source": [
    "import numpy as np\n",
    "import math"
   ]
  },
  {
   "cell_type": "code",
   "execution_count": 31,
   "metadata": {},
   "outputs": [],
   "source": [
    "def FK(js):\n",
    "    Ts = []\n",
    "\n",
    "    c1 = math.cos(js[0])\n",
    "    s1 = math.sin(js[0])\n",
    "    c2 = math.cos(js[1])\n",
    "    s2 = math.sin(js[1])\n",
    "    c3 = math.cos(js[2])\n",
    "    s3 = math.sin(js[2])\n",
    "    c4 = math.cos(js[3])\n",
    "    s4 = math.sin(js[3])\n",
    "    c5 = math.cos(js[4])\n",
    "    s5 = math.sin(js[4])\n",
    "\n",
    "    a2 = 0.155\n",
    "    a3 = 0.135\n",
    "    d1 = 0.147\n",
    "    d5 = 0.218\n",
    "\n",
    "    Ts.append(np.matrix([[c1, 0, s1, 0], [s1, 0, -c1, 0], [0, 1, 0, d1], [0, 0, 0, 1]]))\n",
    "    Ts.append(np.matrix([[c2, -s2, 0, a2*c2], [s2, c2, 0, a2*s2], [0, 0, 1,0], [0, 0, 0, 1]]))\n",
    "    Ts.append(np.matrix([[c3, -s3, 0, a3*c3], [s3, c3, 0, a3*s3], [0, 0, 1, 0], [0, 0, 0, 1]]))\n",
    "    Ts.append(np.matrix([[c4, 0, s4, 0], [s4, 0, -c4, 0], [0, 1, 0, 0], [0, 0, 0, 1]]))\n",
    "    Ts.append(np.matrix([[c5, -s5, 0, 0], [s5, c5, 0, 0], [0, 0, 1, d5], [0, 0, 0, 1]]))\n",
    "\n",
    "    return [Ts[0], Ts[0]*Ts[1], Ts[0]*Ts[1]*Ts[2], Ts[0]*Ts[1]*Ts[2]*Ts[3], Ts[0]*Ts[1]*Ts[2]*Ts[3]*Ts[4]]\n",
    "\n",
    "\n",
    "def make_q(e, theta):\n",
    "    return [e[0]*math.sin(theta/2), e[1]*math.sin(theta/2), e[2]*math.sin(theta/2), math.cos(theta/2)]\n",
    "\n",
    "\n",
    "def my_cross(q, p):\n",
    "    return [q[3]*p[0] - q[2]*p[1] + q[1]*p[2] + q[0]*p[3],\n",
    "            q[2]*p[0] + q[3]*p[1] - q[0]*p[2] + q[1]*p[3],\n",
    "            -q[1]*p[0] + q[0]*p[1] + q[3]*p[2] + q[2]*p[3],\n",
    "            -q[0]*p[0] - q[1]*p[1] - q[2]*p[2] + q[3]*p[3]]\n",
    "\n",
    "def fixPi(Js):\n",
    "    js = Js\n",
    "    for j in range(len(Js)):\n",
    "      if js[j] > math.pi:\n",
    "        js[j] = js[j] - int((js[j] + math.pi)/(2*math.pi))*2*math.pi\n",
    "      elif js[j] < -math.pi:\n",
    "        js[j] = js[j] - int((js[j]-math.pi)/(2*math.pi))*2*math.pi\n",
    "    return js"
   ]
  },
  {
   "cell_type": "code",
   "execution_count": 32,
   "metadata": {},
   "outputs": [
    {
     "name": "stdout",
     "output_type": "stream",
     "text": [
      "[[ 1.     0.     0.     0.   ]\n",
      " [ 0.     0.    -1.     0.   ]\n",
      " [ 0.     1.     0.     0.147]\n",
      " [ 0.     0.     0.     1.   ]]\n",
      "[[ 6.12323400e-17 -1.00000000e+00  0.00000000e+00  9.49101269e-18]\n",
      " [ 0.00000000e+00  0.00000000e+00 -1.00000000e+00  0.00000000e+00]\n",
      " [ 1.00000000e+00  6.12323400e-17  0.00000000e+00  3.02000000e-01]\n",
      " [ 0.00000000e+00  0.00000000e+00  0.00000000e+00  1.00000000e+00]]\n",
      "[[ 6.12323400e-17 -1.00000000e+00  0.00000000e+00  1.77573786e-17]\n",
      " [ 0.00000000e+00  0.00000000e+00 -1.00000000e+00  0.00000000e+00]\n",
      " [ 1.00000000e+00  6.12323400e-17  0.00000000e+00  4.37000000e-01]\n",
      " [ 0.00000000e+00  0.00000000e+00  0.00000000e+00  1.00000000e+00]]\n",
      "[[-1.00000000e+00  0.00000000e+00  1.22464680e-16  1.77573786e-17]\n",
      " [ 0.00000000e+00 -1.00000000e+00  0.00000000e+00  0.00000000e+00]\n",
      " [ 1.22464680e-16  0.00000000e+00  1.00000000e+00  4.37000000e-01]\n",
      " [ 0.00000000e+00  0.00000000e+00  0.00000000e+00  1.00000000e+00]]\n",
      "[[-1.00000000e+00  0.00000000e+00  1.22464680e-16  4.44546788e-17]\n",
      " [ 0.00000000e+00 -1.00000000e+00  0.00000000e+00  0.00000000e+00]\n",
      " [ 1.22464680e-16  0.00000000e+00  1.00000000e+00  6.55000000e-01]\n",
      " [ 0.00000000e+00  0.00000000e+00  0.00000000e+00  1.00000000e+00]]\n"
     ]
    }
   ],
   "source": [
    "theta = []\n",
    "theta.append(0)\n",
    "theta.append(np.pi/2)\n",
    "theta.append(0)\n",
    "theta.append(np.pi/2)\n",
    "theta.append(0)\n",
    "fk = FK(theta)\n",
    "print(fk[0])\n",
    "print(fk[1])\n",
    "print(fk[2])\n",
    "print(fk[3])\n",
    "print(fk[4])"
   ]
  },
  {
   "cell_type": "code",
   "execution_count": null,
   "metadata": {},
   "outputs": [],
   "source": []
  },
  {
   "cell_type": "code",
   "execution_count": 5,
   "metadata": {},
   "outputs": [],
   "source": [
    "x1 = 0\n",
    "y1 = 0\n",
    "z1 = 0.147\n",
    "\n",
    "L = [0.147,0.155,0.135,0.218]\n",
    "\n",
    "def theta0(p):\n",
    "\n",
    "    if p[0]== 0 and p[1] == 0:\n",
    "        theta = 0\n",
    "    else:\n",
    "        theta = math.atan2(p[0]),p[1]\n",
    "    return theta\n",
    "\n",
    "def theta2(p):\n",
    "    L14 = math.sqrt(())\n"
   ]
  },
  {
   "cell_type": "code",
   "execution_count": 6,
   "metadata": {},
   "outputs": [],
   "source": [
    "def AnalyticSolution(x,y,z,quaternion):\n",
    "    L = [0.147,0.155,0.135,0.218]\n",
    "    q = quaternion\n",
    "    vx = 2*(q[0]*q[2] + q[3]*q[1])\n",
    "    vy = 2*(q[1]*q[2] - q[3]*q[0])\n",
    "    vz = q[3]**2 - q[0]**2 - q[1]**2 + q[2]**2\n",
    "\n",
    "    x3 = x - L[3]*vx\n",
    "    y3 = y - L[3]*vy\n",
    "    z3 = z - L[3]*vz\n",
    "\n",
    "    Theta0 = theta0([x,y,z])\n",
    "\n",
    "    x1 = 0\n",
    "    y1 = 0\n",
    "    z1 = 0.147\n",
    "\n",
    "    L13 = math.sqrt((x3 - x1)**2 + (y3 - y1)**2 + (z3 - L[0])**2)\n",
    "    Theta2 = math.acos(-(L[1]**2 + L[2]**2 - L13**2)/(2*L[1]*L[2]))\n",
    "    L03 = math.sqrt((x3 - x1)**2 + (y3 - y1)**2 + (z3)**2)\n",
    "    Theta1_1 = math.acos((L[1]**2 + L13**2 - L[2]**2)/(2*L[1]*L13))\n",
    "    Theta1_2 = math.acos((L[0]**2 + L13**2 - L03**2)/2*L[0]*L13)\n",
    "    Theta1 = math.pi - (Theta1_1 + Theta1_2)\n",
    "\n",
    "    xyz2 = FK(L, [Theta0, Theta1, 0, 0, 0, 0])\n",
    "    x2 = xyz2[2][0, 3]\n",
    "    y2 = xyz2[2][1, 3]\n",
    "    z2 = xyz2[2][2, 3]\n",
    "\n",
    "    L26_2 = (x - x2)**2 + (y - y2)**2 + (z - z2)**2\n",
    "    Theta3 = math.acos(-((L[3] + L[4])**2 + (L[5] + L[6])**2 - L26_2)/(2*(L[3] + L[4])*(L[5] + L[6])))\n",
    "\n",
    "    my_q = []\n",
    "    my_q.append(make_q([0,0,1],Theta0))\n",
    "    my_q.append(make_q([1,0,0],Theta1))\n",
    "    my_q.append(make_q([1,0,0],Theta2))\n",
    "    my_q.append(make_q([1,0,0],Theta3))\n",
    "\n",
    "    my_Q = []\n",
    "    my_Q.append(my_cross(my_q[0],my_q[1]))\n",
    "    my_Q.append(my_cross(my_Q[0],my_q[2]))\n",
    "    my_Q.append(my_cross(my_Q[1],my_q[3]))\n",
    "\n",
    "    qx03 = my_Q[2][0]\n",
    "    qy03 = my_Q[2][1]\n",
    "    qz03 = my_Q[2][2]\n",
    "    qw03 = my_Q[3][3]\n",
    "\n",
    "    qx04 = q[0]\n",
    "    qy04 = q[1]\n",
    "    qz04 = q[2]\n",
    "    qw04 = q[3]\n",
    "\n",
    "    C5 = (qx03*qx04 + qy03*qy04)/(qx03**2 + qy03**2)\n",
    "    S5 = (qx04*qx03 - qy04*qy03)/(qx03**2 + qy03**2)\n",
    "\n",
    "    Theta4 = 2*math.atan2(S5,C5)\n",
    "\n",
    "    js = fixPi([Theta0, Theta1, Theta2, Theta3, Theta4])\n",
    "\n",
    "    return js"
   ]
  },
  {
   "cell_type": "code",
   "execution_count": 29,
   "metadata": {},
   "outputs": [
    {
     "name": "stdout",
     "output_type": "stream",
     "text": [
      "[0.16091939824949408, 1.9455950207006751, -0.23555315125841791, 1.8635521567058566, 1.3002478623401408]\n",
      "-0.16460049195095056 -0.026718436343386703 0.6229056975160094\n"
     ]
    }
   ],
   "source": [
    "import random\n",
    "js = [0,0,0,0,0]\n",
    "random_js = []\n",
    "random_js.append(random.uniform(-math.pi*17/18, math.pi*17/18))\n",
    "random_js.append(random.uniform(-math.pi*100/180, math.pi*135/180))\n",
    "random_js.append(random.uniform(-math.pi*12/18, math.pi*153/180))\n",
    "random_js.append(random.uniform(-math.pi*27/18, math.pi*27/18))\n",
    "random_js.append(random.uniform(-math.pi*12/18, math.pi*12/18))\n",
    "\n",
    "print(random_js)\n",
    "\n",
    "#random_jsから、手先座標[x, y, z], 姿勢qtnを導出\n",
    "L = [0.1975, 0.1975, 0.340, 0.197, 0.143, 0.070, 0.035]\n",
    "TTs = FK(random_js)\n",
    "\n",
    "x = TTs[4][0, 3]\n",
    "y = TTs[4][1, 3]\n",
    "z = TTs[4][2, 3]\n",
    "print(x,y,z)"
   ]
  },
  {
   "cell_type": "code",
   "execution_count": 22,
   "metadata": {},
   "outputs": [
    {
     "name": "stdout",
     "output_type": "stream",
     "text": [
      "-1.9794862027258204\n"
     ]
    }
   ],
   "source": [
    "print(random.uniform(-math.pi*12/18, math.pi*12/18))"
   ]
  },
  {
   "cell_type": "code",
   "execution_count": null,
   "metadata": {},
   "outputs": [],
   "source": []
  }
 ],
 "metadata": {
  "kernelspec": {
   "display_name": "Python 3.8.10 64-bit",
   "language": "python",
   "name": "python3"
  },
  "language_info": {
   "codemirror_mode": {
    "name": "ipython",
    "version": 3
   },
   "file_extension": ".py",
   "mimetype": "text/x-python",
   "name": "python",
   "nbconvert_exporter": "python",
   "pygments_lexer": "ipython3",
   "version": "3.8.10"
  },
  "metadata": {
   "interpreter": {
    "hash": "5fe0c777adb3ac2f7da4910330db63e3efdee203600996f23e489a2b2c7bd84b"
   }
  },
  "orig_nbformat": 2,
  "vscode": {
   "interpreter": {
    "hash": "916dbcbb3f70747c44a77c7bcd40155683ae19c65e1c03b4aa3499c5328201f1"
   }
  }
 },
 "nbformat": 4,
 "nbformat_minor": 2
}
